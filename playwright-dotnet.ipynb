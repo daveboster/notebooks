{
 "cells": [
  {
   "cell_type": "markdown",
   "metadata": {},
   "source": [
    "# Playwright for .NET (C#) 🎭\n",
    "\n",
    "A guide for introducing Playwright for .NET (C#) to a developer."
   ]
  },
  {
   "cell_type": "markdown",
   "metadata": {},
   "source": [
    "## Introduction"
   ]
  },
  {
   "cell_type": "markdown",
   "metadata": {},
   "source": [
    "As it states on [GitHub](https://github.com/microsoft/playwright):\n",
    "\n",
    "> Playwright is a framework for Web Testing and Automation. It allows testing of Chromium, Firefox, and WebKit with a single API. Playwright is build to enable cross-browser web automation that is ever-green, capable, reliable and fast.\n",
    "\n",
    "Playwright supports [.NET](https://playwright.dev/dotnet/docs/intro), [Node.js](https://playwright.dev/docs/intro), [Java](https://playwright.dev/java/docs/intro), and [Python](https://playwright.dev/python/docs/intro)."
   ]
  },
  {
   "cell_type": "markdown",
   "metadata": {},
   "source": [
    "## Getting started"
   ]
  },
  {
   "cell_type": "markdown",
   "metadata": {},
   "source": [
    "### Adding Playwright to our notebook"
   ]
  },
  {
   "cell_type": "markdown",
   "metadata": {},
   "source": [
    "In order to use Playwright in our notebook, we need to import the Nuget package. We can do this by running the notebook .NET [magic command](https://github.com/dotnet/interactive/blob/main/docs/magic-commands.md) `#r` to add a nuget reference.\n",
    "\n",
    "We will also need to install the browser drivers for Chromium. This can be done either by PowerShell, or in the case of our notebook, we can [install browswers via API](https://playwright.dev/dotnet/docs/browsers#install-browsers-via-api): `Microsoft.Playwright.Program.Main(new[] {\"install\"});`."
   ]
  },
  {
   "cell_type": "code",
   "execution_count": 6,
   "metadata": {
    "dotnet_interactive": {
     "language": "csharp"
    },
    "polyglot_notebook": {
     "kernelName": "csharp"
    }
   },
   "outputs": [
    {
     "data": {
      "text/html": [
       "<div><div></div><div></div><div><strong>Installed Packages</strong><ul><li><span>Microsoft.Playwright.NUnit, 1.37.1</span></li></ul></div></div>"
      ]
     },
     "metadata": {},
     "output_type": "display_data"
    }
   ],
   "source": [
    "#r \"nuget:Microsoft.Playwright.NUnit\"\n",
    "\n",
    "var exitCode = Microsoft.Playwright.Program.Main(new[] { \"install\", \"chromium\" });\n",
    "if (exitCode != 0)\n",
    "{\n",
    "    throw new Exception($\"Playwright exited with code {exitCode}\");\n",
    "}"
   ]
  },
  {
   "cell_type": "markdown",
   "metadata": {},
   "source": [
    "### Creating the playwright and browser contexts"
   ]
  },
  {
   "cell_type": "markdown",
   "metadata": {},
   "source": [
    "In the rest of our notebook, we will be using imported namespaces below, along with the `playwright` and `chromium` variables to interact with Playwright."
   ]
  },
  {
   "cell_type": "code",
   "execution_count": 7,
   "metadata": {
    "dotnet_interactive": {
     "language": "csharp"
    },
    "polyglot_notebook": {
     "kernelName": "csharp"
    }
   },
   "outputs": [],
   "source": [
    "using System.Text.RegularExpressions;\n",
    "using System.Threading.Tasks;\n",
    "using Microsoft.Playwright;\n",
    "using Microsoft.Playwright.NUnit;\n",
    "using NUnit.Framework;\n",
    "\n",
    "var playwright = await Playwright.CreateAsync();\n",
    "var chromium = playwright.Chromium;"
   ]
  },
  {
   "cell_type": "markdown",
   "metadata": {},
   "source": [
    "### Our first (green) test "
   ]
  },
  {
   "cell_type": "markdown",
   "metadata": {},
   "source": [
    "To start, we will create a new test and navigate to the [Playwright](https://playwright.dev) homepage. The homepage has the title `Playwright`, so we will check our assertions to validate it returns the title we are expecting.\n",
    "\n",
    "If all goes as expected, we will see a green checkmark ✅ next to our code block below."
   ]
  },
  {
   "cell_type": "code",
   "execution_count": 15,
   "metadata": {
    "dotnet_interactive": {
     "language": "csharp"
    },
    "polyglot_notebook": {
     "kernelName": "csharp"
    }
   },
   "outputs": [],
   "source": [
    "var browser = await chromium.LaunchAsync(new() { Headless = true });\n",
    "\n",
    "try {\n",
    "    var page = await browser.NewPageAsync();\n",
    "    await page.GotoAsync(\"https://playwright.dev\");\n",
    "    await Assertions.Expect(page).ToHaveTitleAsync(new Regex(\"Playwright\"));\n",
    "} finally {\n",
    "    await browser.CloseAsync();\n",
    "}"
   ]
  },
  {
   "cell_type": "markdown",
   "metadata": {},
   "source": [
    "### Our second (red) test"
   ]
  },
  {
   "cell_type": "markdown",
   "metadata": {},
   "source": [
    "To ensure our assertions are working correctly, we will create a second test that navigates to the [Playwright](https://playwright.dev) homepage and checks for an incorrect title `You shall not pass!`. This will fail, and we will see a red ❌ next to our code block below, along with the error message."
   ]
  },
  {
   "cell_type": "code",
   "execution_count": 16,
   "metadata": {
    "dotnet_interactive": {
     "language": "csharp"
    },
    "polyglot_notebook": {
     "kernelName": "csharp"
    }
   },
   "outputs": [
    {
     "ename": "Error",
     "evalue": "Microsoft.Playwright.PlaywrightException: Page title expected to be 'You shall not pass!'\nBut was: 'Fast and reliable end-to-end testing for modern web apps | Playwright' \nCall log:\nPageAssertions.ToHaveTitleAsync with timeout 5000ms\nwaiting for Locator(\":root\")\n  locator resolved to <html lang=\"en\" dir=\"ltr\" data-theme=\"light\" data-rh=\"…>…</html>\n  unexpected value \"Fast and reliable end-to-end testing for modern web apps | Playwright\"\n  locator resolved to <html lang=\"en\" dir=\"ltr\" data-theme=\"light\" data-rh=\"…>…</html>\n  unexpected value \"Fast and reliable end-to-end testing for modern web apps | Playwright\"\n  locator resolved to <html lang=\"en\" dir=\"ltr\" data-theme=\"light\" data-rh=\"…>…</html>\n  unexpected value \"Fast and reliable end-to-end testing for modern web apps | Playwright\"\n  locator resolved to <html lang=\"en\" dir=\"ltr\" data-theme=\"light\" data-rh=\"…>…</html>\n  unexpected value \"Fast and reliable end-to-end testing for modern web apps | Playwright\"\n  locator resolved to <html lang=\"en\" dir=\"ltr\" data-theme=\"light\" data-rh=\"…>…</html>\n  unexpected value \"Fast and reliable end-to-end testing for modern web apps | Playwright\"\n  locator resolved to <html lang=\"en\" dir=\"ltr\" data-theme=\"light\" data-rh=\"…>…</html>\n  unexpected value \"Fast and reliable end-to-end testing for modern web apps | Playwright\"\n  locator resolved to <html lang=\"en\" dir=\"ltr\" data-theme=\"light\" data-rh=\"…>…</html>\n  unexpected value \"Fast and reliable end-to-end testing for modern web apps | Playwright\"\n  locator resolved to <html lang=\"en\" dir=\"ltr\" data-theme=\"light\" data-rh=\"…>…</html>\n  unexpected value \"Fast and reliable end-to-end testing for modern web apps | Playwright\"\n  locator resolved to <html lang=\"en\" dir=\"ltr\" data-theme=\"light\" data-rh=\"…>…</html>\n  unexpected value \"Fast and reliable end-to-end testing for modern web apps | Playwright\"\n   at Microsoft.Playwright.Core.AssertionsBase.ExpectImplAsync(String expression, FrameExpectOptions expectOptions, Object expected, String message) in /_/src/Playwright/Core/AssertionsBase.cs:line 89\n   at Microsoft.Playwright.Core.AssertionsBase.ExpectImplAsync(String expression, ExpectedTextValue[] expectedText, Object expected, String message, FrameExpectOptions options) in /_/src/Playwright/Core/AssertionsBase.cs:line 63\n   at Microsoft.Playwright.Core.AssertionsBase.ExpectImplAsync(String expression, ExpectedTextValue textValue, Object expected, String message, FrameExpectOptions options) in /_/src/Playwright/Core/AssertionsBase.cs:line 55\n   at Submission#16.<<Initialize>>d__0.MoveNext()\n--- End of stack trace from previous location ---\n   at Submission#16.<<Initialize>>d__0.MoveNext()\n--- End of stack trace from previous location ---\n   at Microsoft.CodeAnalysis.Scripting.ScriptExecutionState.RunSubmissionsAsync[TResult](ImmutableArray`1 precedingExecutors, Func`2 currentExecutor, StrongBox`1 exceptionHolderOpt, Func`2 catchExceptionOpt, CancellationToken cancellationToken)",
     "output_type": "error",
     "traceback": [
      "Microsoft.Playwright.PlaywrightException: Page title expected to be 'You shall not pass!'\n",
      "But was: 'Fast and reliable end-to-end testing for modern web apps | Playwright' \n",
      "Call log:\n",
      "PageAssertions.ToHaveTitleAsync with timeout 5000ms\n",
      "waiting for Locator(\":root\")\n",
      "  locator resolved to <html lang=\"en\" dir=\"ltr\" data-theme=\"light\" data-rh=\"…>…</html>\n",
      "  unexpected value \"Fast and reliable end-to-end testing for modern web apps | Playwright\"\n",
      "  locator resolved to <html lang=\"en\" dir=\"ltr\" data-theme=\"light\" data-rh=\"…>…</html>\n",
      "  unexpected value \"Fast and reliable end-to-end testing for modern web apps | Playwright\"\n",
      "  locator resolved to <html lang=\"en\" dir=\"ltr\" data-theme=\"light\" data-rh=\"…>…</html>\n",
      "  unexpected value \"Fast and reliable end-to-end testing for modern web apps | Playwright\"\n",
      "  locator resolved to <html lang=\"en\" dir=\"ltr\" data-theme=\"light\" data-rh=\"…>…</html>\n",
      "  unexpected value \"Fast and reliable end-to-end testing for modern web apps | Playwright\"\n",
      "  locator resolved to <html lang=\"en\" dir=\"ltr\" data-theme=\"light\" data-rh=\"…>…</html>\n",
      "  unexpected value \"Fast and reliable end-to-end testing for modern web apps | Playwright\"\n",
      "  locator resolved to <html lang=\"en\" dir=\"ltr\" data-theme=\"light\" data-rh=\"…>…</html>\n",
      "  unexpected value \"Fast and reliable end-to-end testing for modern web apps | Playwright\"\n",
      "  locator resolved to <html lang=\"en\" dir=\"ltr\" data-theme=\"light\" data-rh=\"…>…</html>\n",
      "  unexpected value \"Fast and reliable end-to-end testing for modern web apps | Playwright\"\n",
      "  locator resolved to <html lang=\"en\" dir=\"ltr\" data-theme=\"light\" data-rh=\"…>…</html>\n",
      "  unexpected value \"Fast and reliable end-to-end testing for modern web apps | Playwright\"\n",
      "  locator resolved to <html lang=\"en\" dir=\"ltr\" data-theme=\"light\" data-rh=\"…>…</html>\n",
      "  unexpected value \"Fast and reliable end-to-end testing for modern web apps | Playwright\"\n",
      "   at Microsoft.Playwright.Core.AssertionsBase.ExpectImplAsync(String expression, FrameExpectOptions expectOptions, Object expected, String message) in /_/src/Playwright/Core/AssertionsBase.cs:line 89\n",
      "   at Microsoft.Playwright.Core.AssertionsBase.ExpectImplAsync(String expression, ExpectedTextValue[] expectedText, Object expected, String message, FrameExpectOptions options) in /_/src/Playwright/Core/AssertionsBase.cs:line 63\n",
      "   at Microsoft.Playwright.Core.AssertionsBase.ExpectImplAsync(String expression, ExpectedTextValue textValue, Object expected, String message, FrameExpectOptions options) in /_/src/Playwright/Core/AssertionsBase.cs:line 55\n",
      "   at Submission#16.<<Initialize>>d__0.MoveNext()\n",
      "--- End of stack trace from previous location ---\n",
      "   at Submission#16.<<Initialize>>d__0.MoveNext()\n",
      "--- End of stack trace from previous location ---\n",
      "   at Microsoft.CodeAnalysis.Scripting.ScriptExecutionState.RunSubmissionsAsync[TResult](ImmutableArray`1 precedingExecutors, Func`2 currentExecutor, StrongBox`1 exceptionHolderOpt, Func`2 catchExceptionOpt, CancellationToken cancellationToken)"
     ]
    }
   ],
   "source": [
    "var browser = await chromium.LaunchAsync(new() { Headless = true });\n",
    "\n",
    "try {\n",
    "    var page = await browser.NewPageAsync();\n",
    "    await page.GotoAsync(\"https://playwright.dev\");\n",
    "    await Assertions.Expect(page).ToHaveTitleAsync(new Regex(\"You shall not pass!\"));\n",
    "} finally {\n",
    "    await browser.CloseAsync();\n",
    "}"
   ]
  }
 ],
 "metadata": {
  "kernelspec": {
   "display_name": ".NET (C#)",
   "language": "C#",
   "name": ".net-csharp"
  },
  "language_info": {
   "name": "polyglot-notebook"
  },
  "polyglot_notebook": {
   "kernelInfo": {
    "defaultKernelName": "csharp",
    "items": [
     {
      "aliases": [],
      "languageName": "csharp",
      "name": "csharp"
     }
    ]
   }
  }
 },
 "nbformat": 4,
 "nbformat_minor": 2
}
